{
 "cells": [
  {
   "cell_type": "code",
   "execution_count": null,
   "id": "a4579b7e-5f3f-4b54-a5e9-21b7ceb94dcd",
   "metadata": {},
   "outputs": [],
   "source": [
    "import tensorflow as tf\n",
    "from tensorflow.keras import models, layers\n",
    "import matplotlib.pyplot as plt\n",
    "from IPython.display import HTML"
   ]
  },
  {
   "cell_type": "code",
   "execution_count": null,
   "id": "45d1d254-24f2-4e80-abad-4760e67b1c8a",
   "metadata": {},
   "outputs": [],
   "source": [
    "import tensorflow as tf\n",
    "import numpy as np\n",
    "from sklearn.utils.class_weight import compute_class_weight\n",
    "\n",
    "# Constants\n",
    "IMAGE_SIZE = 256\n",
    "BATCH_SIZE = 32\n",
    "SEED = 123\n",
    "EPOCHS = 50\n",
    "DATASET_PATH = r\"C:/Users/Timothy/project\"\n",
    "\n",
    "# Load Training and Validation Datasets (before prefetch)\n",
    "train_ds_raw = tf.keras.preprocessing.image_dataset_from_directory(\n",
    "    DATASET_PATH,\n",
    "    validation_split=0.2,\n",
    "    subset=\"training\",\n",
    "    seed=SEED,\n",
    "    shuffle=True,\n",
    "    image_size=(IMAGE_SIZE, IMAGE_SIZE),\n",
    "    batch_size=BATCH_SIZE,\n",
    ")\n",
    "\n",
    "val_ds = tf.keras.preprocessing.image_dataset_from_directory(\n",
    "    DATASET_PATH,\n",
    "    validation_split=0.2,\n",
    "    subset=\"validation\",\n",
    "    seed=SEED,\n",
    "    shuffle=True,\n",
    "    image_size=(IMAGE_SIZE, IMAGE_SIZE),\n",
    "    batch_size=BATCH_SIZE,\n",
    ")\n",
    "\n",
    "# ✅ Get class names BEFORE prefetch\n",
    "class_names = train_ds_raw.class_names\n",
    "print(\"Class Names:\", class_names)\n",
    "\n",
    "# Compute class weights\n",
    "label_list = []\n",
    "for _, labels in train_ds_raw.unbatch():\n",
    "    label_list.append(labels.numpy())\n",
    "\n",
    "class_weights_array = compute_class_weight(\n",
    "    class_weight=\"balanced\",\n",
    "    classes=np.unique(label_list),\n",
    "    y=label_list,\n",
    ")\n",
    "class_weights = {i: w for i, w in enumerate(class_weights_array)}\n",
    "print(\"✅ Computed class weights:\", class_weights)\n",
    "\n",
    "# Prefetch after everything is ready\n",
    "AUTOTUNE = tf.data.AUTOTUNE\n",
    "train_ds = train_ds_raw.prefetch(buffer_size=AUTOTUNE)\n",
    "val_ds = val_ds.prefetch(buffer_size=AUTOTUNE)\n"
   ]
  },
  {
   "cell_type": "code",
   "execution_count": null,
   "id": "2ac6ee71-5f03-4366-93c4-577db01611bf",
   "metadata": {},
   "outputs": [],
   "source": [
    "# Load the raw dataset first (no prefetch yet)\n",
    "train_ds_raw = tf.keras.preprocessing.image_dataset_from_directory(\n",
    "    r\"C:/Users/Timothy/project\",\n",
    "    validation_split=0.2,\n",
    "    subset=\"training\",\n",
    "    seed=123,\n",
    "    shuffle=True,\n",
    "    image_size=(256, 256),\n",
    "    batch_size=32,\n",
    ")\n",
    "\n",
    "# ✅ Get class names before prefetch\n",
    "class_names = train_ds_raw.class_names\n",
    "print(\"Class names:\", class_names)\n",
    "\n",
    "# Now prefetch if needed\n",
    "train_ds = train_ds_raw.prefetch(buffer_size=tf.data.AUTOTUNE)\n"
   ]
  },
  {
   "cell_type": "code",
   "execution_count": null,
   "id": "6d2b0702-c8c8-467f-aeb9-d0e86303cbc0",
   "metadata": {},
   "outputs": [],
   "source": [
    "for image_batch, labels_batch in train_ds_raw.take(1):  # or train_ds if you prefer\n",
    "    print(\"Image batch shape:\", image_batch.shape)\n",
    "    print(\"Labels:\", labels_batch.numpy())\n"
   ]
  },
  {
   "cell_type": "code",
   "execution_count": null,
   "id": "d1c0be12-736c-473f-b96c-299f90d37fa3",
   "metadata": {},
   "outputs": [],
   "source": [
    "import matplotlib.pyplot as plt\n",
    "\n",
    "plt.figure(figsize=(10, 10))\n",
    "for image_batch, labels_batch in train_ds_raw.take(1):  # or train_ds if needed\n",
    "    for i in range(12):\n",
    "        ax = plt.subplot(3, 4, i + 1)\n",
    "        plt.imshow(image_batch[i].numpy().astype(\"uint8\"))\n",
    "        plt.title(class_names[labels_batch[i].numpy()])\n",
    "        plt.axis(\"off\")\n",
    "plt.tight_layout()\n",
    "plt.show()\n"
   ]
  },
  {
   "cell_type": "code",
   "execution_count": null,
   "id": "d599080e-7c30-4321-b904-52081a7623ac",
   "metadata": {},
   "outputs": [],
   "source": [
    "len(train_ds_raw)  # Or use `train_ds` if you're using the prefetched version\n"
   ]
  },
  {
   "cell_type": "code",
   "execution_count": null,
   "id": "dc8e8e8f-9d80-47ac-b264-3c9d9d55cb6e",
   "metadata": {},
   "outputs": [],
   "source": [
    "train_size = 0.8\n",
    "dataset_size = len(train_ds_raw)\n",
    "train_data_size = dataset_size * train_size\n",
    "print(f\"Training data size: {train_data_size}\")\n"
   ]
  },
  {
   "cell_type": "code",
   "execution_count": null,
   "id": "9807b390-c51d-4870-9989-a8ca5cf5d103",
   "metadata": {},
   "outputs": [],
   "source": [
    "import tensorflow as tf\n",
    "\n",
    "# Parameters\n",
    "IMAGE_SIZE = 256\n",
    "BATCH_SIZE = 32\n",
    "SEED = 123\n",
    "\n",
    "# Load the dataset\n",
    "dataset = tf.keras.preprocessing.image_dataset_from_directory(\n",
    "    r\"C:/Users/Timothy/archive (1)\",  # Make sure this path is correct\n",
    "    validation_split=0.2,  # 20% for validation\n",
    "    subset=\"training\",  # Use this for the training subset\n",
    "    seed=SEED,\n",
    "    shuffle=True,\n",
    "    image_size=(IMAGE_SIZE, IMAGE_SIZE),\n",
    "    batch_size=BATCH_SIZE,\n",
    ")\n",
    "\n",
    "# Taking the first 54 batches\n",
    "train_ds = dataset.take(54)\n",
    "\n",
    "# Convert the dataset to a list and get the length (number of batches)\n",
    "len_train_ds = len(list(train_ds))  \n",
    "print(f\"Number of batches in train_ds: {len_train_ds}\")\n",
    "\n",
    "# Calculate the number of images by multiplying with the batch size\n",
    "num_images_in_train_ds = len_train_ds * BATCH_SIZE\n",
    "print(f\"Number of images in the training dataset: {num_images_in_train_ds}\")\n"
   ]
  },
  {
   "cell_type": "code",
   "execution_count": null,
   "id": "13755f4f-2915-46dc-a724-e3b929916a8f",
   "metadata": {},
   "outputs": [],
   "source": [
    "test_ds = train_ds.skip(54)\n",
    "\n",
    "# Convert the test_ds to a list and get the length (number of batches)\n",
    "len_test_ds = len(list(test_ds))\n",
    "print(f\"Number of batches in test_ds: {len_test_ds}\")\n",
    "\n",
    "# Calculate the number of images in the test dataset\n",
    "num_images_in_test_ds = len_test_ds * BATCH_SIZE\n",
    "print(f\"Number of images in the test dataset: {num_images_in_test_ds}\")\n"
   ]
  },
  {
   "cell_type": "code",
   "execution_count": null,
   "id": "99435b3a-9a23-4d49-852a-893720355581",
   "metadata": {},
   "outputs": [],
   "source": [
    "val_size=0.1\n",
    "len(dataset)*val_size"
   ]
  },
  {
   "cell_type": "code",
   "execution_count": null,
   "id": "5a24b0d2-bc69-4dc1-8762-388dec5a30f9",
   "metadata": {},
   "outputs": [],
   "source": [
    "val_ds = test_ds.take(6)\n",
    "len(val_ds)"
   ]
  },
  {
   "cell_type": "code",
   "execution_count": null,
   "id": "f22fcf60-3c6d-4c7d-b080-e709c10ae68d",
   "metadata": {},
   "outputs": [],
   "source": [
    "test_ds = test_ds.skip(6)\n",
    "len(test_ds)"
   ]
  },
  {
   "cell_type": "code",
   "execution_count": null,
   "id": "22f2d4a1-8555-4a71-86bc-810c410a719f",
   "metadata": {},
   "outputs": [],
   "source": [
    "def get_dataset_partitions_tf(ds, train_split=0.8, val_split=0.1, test_split=0.1, shuffle=True, shuffle_size=10000):\n",
    "    assert (train_split + test_split + val_split) == 1\n",
    "    \n",
    "    ds_size = len(ds)\n",
    "    \n",
    "    if shuffle:\n",
    "        ds = ds.shuffle(shuffle_size, seed=12)\n",
    "    \n",
    "    train_size = int(train_split * ds_size)\n",
    "    val_size = int(val_split * ds_size)\n",
    "    \n",
    "    train_ds = ds.take(train_size)    \n",
    "    val_ds = ds.skip(train_size).take(val_size)\n",
    "    test_ds = ds.skip(train_size).skip(val_size)\n",
    "    \n",
    "    return train_ds, val_ds, test_ds"
   ]
  },
  {
   "cell_type": "code",
   "execution_count": null,
   "id": "58bab90d-32c5-4564-8f0c-75a400942c57",
   "metadata": {},
   "outputs": [],
   "source": [
    "train_ds, val_ds, test_ds = get_dataset_partitions_tf(dataset)"
   ]
  },
  {
   "cell_type": "code",
   "execution_count": null,
   "id": "4608a8a6-9a30-4f4d-ad65-2b71b1966704",
   "metadata": {},
   "outputs": [],
   "source": [
    "len(train_ds)"
   ]
  },
  {
   "cell_type": "code",
   "execution_count": null,
   "id": "3fe3aa84-8f55-4dd0-b9c7-b6d7219e72d3",
   "metadata": {},
   "outputs": [],
   "source": [
    "len(val_ds)"
   ]
  },
  {
   "cell_type": "code",
   "execution_count": null,
   "id": "71ef6454-9b9f-40c2-b665-1849bf85b203",
   "metadata": {},
   "outputs": [],
   "source": [
    "len(test_ds)"
   ]
  },
  {
   "cell_type": "code",
   "execution_count": null,
   "id": "30604e77-3b16-4120-8114-6efe5258368d",
   "metadata": {},
   "outputs": [],
   "source": [
    "train_ds = train_ds.cache().shuffle(1000).prefetch(buffer_size=tf.data.AUTOTUNE)\n",
    "val_ds = val_ds.cache().shuffle(1000).prefetch(buffer_size=tf.data.AUTOTUNE)\n",
    "test_ds = test_ds.cache().shuffle(1000).prefetch(buffer_size=tf.data.AUTOTUNE)"
   ]
  },
  {
   "cell_type": "code",
   "execution_count": null,
   "id": "7a230df6-ffcd-4279-80a7-75397c62fc54",
   "metadata": {},
   "outputs": [],
   "source": [
    "import tensorflow as tf\n",
    "from tensorflow.keras import layers\n",
    "\n",
    "# Define the resizing and rescaling preprocessing pipeline\n",
    "resize_and_rescale = tf.keras.Sequential([\n",
    "    layers.Resizing(IMAGE_SIZE, IMAGE_SIZE),  # Resizing the image\n",
    "    layers.Rescaling(1./255),  # Rescaling pixel values to [0, 1]\n",
    "])\n"
   ]
  },
  {
   "cell_type": "code",
   "execution_count": null,
   "id": "4b0b7f08-3af9-469e-a471-f4141cb5b661",
   "metadata": {},
   "outputs": [],
   "source": [
    "import tensorflow as tf\n",
    "from tensorflow.keras import layers\n",
    "\n",
    "# Define data augmentation pipeline\n",
    "data_augmentation = tf.keras.Sequential([\n",
    "    layers.RandomFlip(\"horizontal_and_vertical\"),  # Random horizontal and vertical flip\n",
    "    layers.RandomRotation(0.2),  # Random rotation within 20% of the image\n",
    "])\n"
   ]
  },
  {
   "cell_type": "code",
   "execution_count": null,
   "id": "74c949a1-8fc9-41d6-950f-abdee9790b47",
   "metadata": {},
   "outputs": [],
   "source": [
    "train_ds = train_ds.map(\n",
    "    lambda x, y: (data_augmentation(x, training=True), y)\n",
    ").prefetch(buffer_size=tf.data.AUTOTUNE)\n"
   ]
  },
  {
   "cell_type": "code",
   "execution_count": null,
   "id": "3342fb8c-acd6-4970-a6e1-449a8868bc6f",
   "metadata": {},
   "outputs": [],
   "source": [
    "import tensorflow as tf\n",
    "from tensorflow.keras import layers, models\n",
    "\n",
    "# Define the input shape (without BATCH_SIZE)\n",
    "IMAGE_SIZE = 256  # Example image size, change according to your dataset\n",
    "CHANNELS = 3  # RGB images\n",
    "input_shape = (IMAGE_SIZE, IMAGE_SIZE, CHANNELS)\n",
    "n_classes = 3\n",
    "\n",
    "# Resize and rescale layer\n",
    "resize_and_rescale = tf.keras.Sequential([\n",
    "    layers.Resizing(IMAGE_SIZE, IMAGE_SIZE),\n",
    "    layers.Rescaling(1./255)\n",
    "])\n",
    "\n",
    "# Build the model\n",
    "model = models.Sequential([\n",
    "    resize_and_rescale,\n",
    "    layers.Conv2D(32, kernel_size=(3, 3), activation='relu', input_shape=input_shape),\n",
    "    layers.MaxPooling2D((2, 2)),\n",
    "    layers.Conv2D(64, kernel_size=(3, 3), activation='relu'),\n",
    "    layers.MaxPooling2D((2, 2)),\n",
    "    layers.Conv2D(64, kernel_size=(3, 3), activation='relu'),\n",
    "    layers.MaxPooling2D((2, 2)),\n",
    "    layers.Conv2D(64, (3, 3), activation='relu'),\n",
    "    layers.MaxPooling2D((2, 2)),\n",
    "    layers.Conv2D(64, (3, 3), activation='relu'),\n",
    "    layers.MaxPooling2D((2, 2)),\n",
    "    layers.Conv2D(64, (3, 3), activation='relu'),\n",
    "    layers.MaxPooling2D((2, 2)),\n",
    "    layers.Flatten(),\n",
    "    layers.Dense(64, activation='relu'),\n",
    "    layers.Dense(n_classes, activation='softmax')\n",
    "])\n",
    "\n",
    "# Build the model (specify the input shape)\n",
    "model.build(input_shape=(None, IMAGE_SIZE, IMAGE_SIZE, CHANNELS))\n",
    "\n",
    "# Display model summary\n",
    "model.summary()\n"
   ]
  },
  {
   "cell_type": "code",
   "execution_count": null,
   "id": "c850b95a-4cec-4a78-a0ba-5c28c227f08c",
   "metadata": {},
   "outputs": [],
   "source": [
    "model.compile(\n",
    "    optimizer='adam',\n",
    "    loss=tf.keras.losses.SparseCategoricalCrossentropy(from_logits=False),\n",
    "    metrics=['accuracy']\n",
    ")"
   ]
  },
  {
   "cell_type": "code",
   "execution_count": null,
   "id": "2dc60ff3-afe2-4d28-82e3-863483502563",
   "metadata": {},
   "outputs": [],
   "source": [
    "history = model.fit(\n",
    "    train_ds,\n",
    "    validation_data=val_ds,  # This must be included\n",
    "    epochs=EPOCHS,\n",
    "    batch_size=BATCH_SIZE,\n",
    "    verbose=1\n",
    ")\n",
    "\n"
   ]
  },
  {
   "cell_type": "code",
   "execution_count": null,
   "id": "9d8ac489-90da-465e-b3e9-c2658b166c4f",
   "metadata": {},
   "outputs": [],
   "source": [
    "scores = model.evaluate(test_ds)"
   ]
  },
  {
   "cell_type": "code",
   "execution_count": null,
   "id": "f4cf6e28-d317-4246-9d06-5cba6c25bd79",
   "metadata": {},
   "outputs": [],
   "source": [
    "scores"
   ]
  },
  {
   "cell_type": "code",
   "execution_count": null,
   "id": "84dce929-9506-41f7-8fd0-2deb791ed1c1",
   "metadata": {},
   "outputs": [],
   "source": [
    "history"
   ]
  },
  {
   "cell_type": "code",
   "execution_count": null,
   "id": "ed5bf4b4-751f-4078-b08d-b4e780203f9b",
   "metadata": {},
   "outputs": [],
   "source": [
    "history.params"
   ]
  },
  {
   "cell_type": "code",
   "execution_count": null,
   "id": "4a3bbf31-dae4-4787-8c03-7f091a70a553",
   "metadata": {},
   "outputs": [],
   "source": [
    "print(history.history.keys())\n"
   ]
  },
  {
   "cell_type": "code",
   "execution_count": null,
   "id": "659e7556-05e4-4ba6-970c-77318578155c",
   "metadata": {},
   "outputs": [],
   "source": [
    "type(history.history['loss'])"
   ]
  },
  {
   "cell_type": "code",
   "execution_count": null,
   "id": "c520eeb7-e07c-48a2-af3d-e8b2b9299a52",
   "metadata": {},
   "outputs": [],
   "source": [
    "len(history.history['loss'])"
   ]
  },
  {
   "cell_type": "code",
   "execution_count": null,
   "id": "a373fb4b-f1e1-4989-9611-148c79018044",
   "metadata": {},
   "outputs": [],
   "source": [
    "history.history['loss'][:5] # show loss for first 5 epochs"
   ]
  },
  {
   "cell_type": "code",
   "execution_count": null,
   "id": "d29c2c90-19f7-41bd-b5e0-136988ec8ce3",
   "metadata": {},
   "outputs": [],
   "source": [
    "acc = history.history.get('accuracy', [])\n",
    "val_acc = history.history.get('val_accuracy', [])\n",
    "\n",
    "loss = history.history.get('loss', [])\n",
    "val_loss = history.history.get('val_loss', [])\n"
   ]
  },
  {
   "cell_type": "code",
   "execution_count": null,
   "id": "38bda2f5-84c4-4e95-a1b5-23237aefd530",
   "metadata": {},
   "outputs": [],
   "source": [
    "IMAGE_SIZE = 256\n",
    "BATCH_SIZE = 32\n",
    "EPOCHS = 50\n",
    "SEED = 123\n",
    "\n",
    "# Load the dataset\n",
    "dataset = tf.keras.preprocessing.image_dataset_from_directory(\n",
    "    r\"C:/Users/Timothy/archive (1)\",\n",
    "    validation_split=0.2,  # 20% validation\n",
    "    subset=\"training\",\n",
    "    seed=SEED,\n",
    "    shuffle=True,\n",
    "    image_size=(IMAGE_SIZE, IMAGE_SIZE),\n",
    "    batch_size=BATCH_SIZE,\n",
    ")\n",
    "\n",
    "# Training and Validation datasets\n",
    "train_ds = dataset\n",
    "val_ds = tf.keras.preprocessing.image_dataset_from_directory(\n",
    "    r\"C:/Users/Timothy/archive (1)\",\n",
    "    validation_split=0.2,\n",
    "    subset=\"validation\",\n",
    "    seed=SEED,\n",
    "    shuffle=True,\n",
    "    image_size=(IMAGE_SIZE, IMAGE_SIZE),\n",
    "    batch_size=BATCH_SIZE,\n",
    ")\n",
    "\n",
    "print(\"Training dataset size:\", len(train_ds))\n",
    "print(\"Validation dataset size:\", len(val_ds))\n",
    "\n",
    "# Train the model\n",
    "history = model.fit(\n",
    "    train_ds,\n",
    "    validation_data=val_ds,\n",
    "    epochs=EPOCHS,\n",
    "    verbose=1\n",
    ")\n"
   ]
  },
  {
   "cell_type": "code",
   "execution_count": null,
   "id": "da0f5ee4-2e6d-45f7-a9b1-d167166c8f14",
   "metadata": {},
   "outputs": [],
   "source": [
    "import matplotlib.pyplot as plt\n",
    "\n",
    "# Extract training and validation metrics\n",
    "acc = history.history['accuracy']\n",
    "val_acc = history.history.get('val_accuracy', history.history.get('val_acc'))  # Handle 'val_accuracy' or 'val_acc'\n",
    "\n",
    "loss = history.history['loss']\n",
    "val_loss = history.history.get('val_loss', history.history.get('val_loss'))\n",
    "\n",
    "# Plot accuracy and loss\n",
    "plt.figure(figsize=(12, 6))\n",
    "\n",
    "# Accuracy plot\n",
    "plt.subplot(1, 2, 1)\n",
    "plt.plot(range(EPOCHS), acc, label='Training Accuracy')\n",
    "plt.plot(range(EPOCHS), val_acc, label='Validation Accuracy')\n",
    "plt.legend(loc='lower right')\n",
    "plt.title('Training and Validation Accuracy')\n",
    "\n",
    "# Loss plot\n",
    "plt.subplot(1, 2, 2)\n",
    "plt.plot(range(EPOCHS), loss, label='Training Loss')\n",
    "plt.plot(range(EPOCHS), val_loss, label='Validation Loss')\n",
    "plt.legend(loc='upper right')\n",
    "plt.title('Training and Validation Loss')\n",
    "\n",
    "plt.show()\n"
   ]
  },
  {
   "cell_type": "code",
   "execution_count": null,
   "id": "00195a36-3157-41d4-bfbc-662a29ed83c3",
   "metadata": {},
   "outputs": [],
   "source": [
    "import numpy as np\n",
    "import matplotlib.pyplot as plt\n",
    "\n",
    "# Optional: for Jupyter Notebooks\n",
    "# %matplotlib inline\n",
    "\n",
    "# Assuming class_names = test_ds.class_names\n",
    "\n",
    "for images_batch, labels_batch in test_ds.take(1):\n",
    "    first_image = images_batch[0].numpy().astype('uint8')\n",
    "    first_label = labels_batch[0].numpy()\n",
    "\n",
    "    print(\"First image to predict:\")\n",
    "    plt.imshow(first_image)\n",
    "    plt.axis('off')\n",
    "    plt.show()\n",
    "\n",
    "    print(\"Actual label:\", class_names[first_label])\n",
    "\n",
    "    batch_prediction = model.predict(images_batch)\n",
    "    predicted_label = np.argmax(batch_prediction[0])\n",
    "    print(\"Predicted label:\", class_names[predicted_label])\n"
   ]
  },
  {
   "cell_type": "code",
   "execution_count": null,
   "id": "c8413d6f-d87e-4741-b68f-37b83f64c6a4",
   "metadata": {},
   "outputs": [],
   "source": [
    "def predict(model, img):\n",
    "    img_array = tf.keras.preprocessing.image.img_to_array(images[i].numpy())\n",
    "    img_array = tf.expand_dims(img_array, 0)\n",
    "\n",
    "    predictions = model.predict(img_array)\n",
    "\n",
    "    predicted_class = class_names[np.argmax(predictions[0])]\n",
    "    confidence = round(100 * (np.max(predictions[0])), 2)\n",
    "    return predicted_class, confidence"
   ]
  },
  {
   "cell_type": "code",
   "execution_count": null,
   "id": "2d37a2c0-534f-4f91-a47c-d940b1a4ba68",
   "metadata": {},
   "outputs": [],
   "source": [
    "plt.figure(figsize=(15, 15))\n",
    "for images, labels in test_ds.take(1):\n",
    "    for i in range(9):\n",
    "        ax = plt.subplot(3, 3, i + 1)\n",
    "        plt.imshow(images[i].numpy().astype(\"uint8\"))\n",
    "        \n",
    "        predicted_class, confidence = predict(model, images[i].numpy())\n",
    "        actual_class = class_names[labels[i]] \n",
    "        \n",
    "        plt.title(f\"Actual: {actual_class},\\n Predicted: {predicted_class}.\\n Confidence: {confidence}%\")\n",
    "        \n",
    "        plt.axis(\"off\")"
   ]
  },
  {
   "cell_type": "code",
   "execution_count": null,
   "id": "4975aa14-dadc-4a6c-a886-bf980032aa1f",
   "metadata": {},
   "outputs": [],
   "source": [
    "import os\n",
    "\n",
    "# Set the directory where models will be saved\n",
    "model_dir = \"../models\"\n",
    "os.makedirs(model_dir, exist_ok=True)  # Create the folder if it doesn't exist\n",
    "\n",
    "# Get list of model files with numeric names and extract version numbers\n",
    "existing_versions = [int(f.split('.')[0]) for f in os.listdir(model_dir) if f.split('.')[0].isdigit()]\n",
    "model_version = max(existing_versions + [0]) + 1  # Determine next version number\n",
    "\n",
    "# Save model with proper .keras extension\n",
    "model_path = os.path.join(model_dir, f\"{model_version}.keras\")\n",
    "model.save(model_path)\n",
    "\n",
    "print(f\"Model saved to: {model_path}\")\n"
   ]
  },
  {
   "cell_type": "code",
   "execution_count": null,
   "id": "e276bb91-ecfc-41c1-8508-e59198544e2d",
   "metadata": {},
   "outputs": [],
   "source": [
    "# Save the model as a .keras file\n",
    "model.save(\"breast_cancer_model.keras\")\n"
   ]
  },
  {
   "cell_type": "code",
   "execution_count": 105,
   "id": "d253e4d9-08f0-4079-918b-d63d9de3d99b",
   "metadata": {},
   "outputs": [
    {
     "name": "stdout",
     "output_type": "stream",
     "text": [
      "📋 Classification Report:\n",
      "              precision    recall  f1-score   support\n",
      "\n",
      "           0       1.00      0.00      0.00        21\n",
      "           1       0.67      1.00      0.80        42\n",
      "\n",
      "    accuracy                           0.67        63\n",
      "   macro avg       0.83      0.50      0.40        63\n",
      "weighted avg       0.78      0.67      0.53        63\n",
      "\n"
     ]
    }
   ],
   "source": [
    "# 📊 Full classification report\n",
    "labels = list(test_generator.class_indices.keys())\n",
    "print(\"📋 Classification Report:\")\n",
    "print(classification_report(y_true, y_pred, target_names=labels, zero_division=1))\n"
   ]
  },
  {
   "cell_type": "code",
   "execution_count": 107,
   "id": "44a8061f-0956-4abc-bd2a-1555509b277d",
   "metadata": {},
   "outputs": [
    {
     "name": "stdout",
     "output_type": "stream",
     "text": [
      "Found 63 images belonging to 2 classes.\n"
     ]
    },
    {
     "name": "stderr",
     "output_type": "stream",
     "text": [
      "C:\\Users\\Timothy\\AppData\\Local\\Programs\\Python\\Python312\\Lib\\site-packages\\keras\\src\\trainers\\data_adapters\\py_dataset_adapter.py:121: UserWarning: Your `PyDataset` class should call `super().__init__(**kwargs)` in its constructor. `**kwargs` can include `workers`, `use_multiprocessing`, `max_queue_size`. Do not pass these arguments to `fit()`, as they will be ignored.\n",
      "  self._warn_if_super_not_called()\n"
     ]
    },
    {
     "name": "stdout",
     "output_type": "stream",
     "text": [
      "\n",
      "✅ Accuracy: 0.6667\n",
      "✅ Weighted F1 Score: 0.5333\n",
      "\n",
      "📋 Classification Report:\n",
      "              precision    recall  f1-score   support\n",
      "\n",
      "           0       1.00      0.00      0.00        21\n",
      "           1       0.67      1.00      0.80        42\n",
      "\n",
      "    accuracy                           0.67        63\n",
      "   macro avg       0.83      0.50      0.40        63\n",
      "weighted avg       0.78      0.67      0.53        63\n",
      "\n"
     ]
    },
    {
     "data": {
      "image/png": "[encoded data removed]",
      "text/plain": [
       "<Figure size 600x500 with 2 Axes>"
      ]
     },
     "metadata": {},
     "output_type": "display_data"
    }
   ],
   "source": [
    "import numpy as np\n",
    "from tensorflow.keras.models import load_model\n",
    "from tensorflow.keras.preprocessing.image import ImageDataGenerator\n",
    "from sklearn.metrics import f1_score, accuracy_score, classification_report, confusion_matrix\n",
    "import matplotlib.pyplot as plt\n",
    "import seaborn as sns\n",
    "\n",
    "# 🔹 Load the saved Keras model\n",
    "try:\n",
    "    model = load_model(\"breast_cancer_model.keras\")  # Path to your saved model\n",
    "except Exception as e:\n",
    "    print(f\"Error loading model: {e}\")\n",
    "    exit()\n",
    "\n",
    "# 🔹 Setup test data directory\n",
    "test_dir = r\"C:/Users/Timothy/archive (1)\"  # Ensure this folder contains subfolders per class\n",
    "\n",
    "# 🔹 Prepare the test image generator\n",
    "test_datagen = ImageDataGenerator(rescale=1.0 / 255)\n",
    "input_shape = model.input_shape[1:3]  # (height, width)\n",
    "\n",
    "test_generator = test_datagen.flow_from_directory(\n",
    "    test_dir,\n",
    "    target_size=input_shape,\n",
    "    batch_size=32,\n",
    "    class_mode='categorical',\n",
    "    shuffle=False\n",
    ")\n",
    "\n",
    "# 🎯 True labels\n",
    "y_true = test_generator.classes\n",
    "\n",
    "# 🤖 Model prediction\n",
    "y_pred_probs = model.predict(test_generator, verbose=0)\n",
    "y_pred = np.argmax(y_pred_probs, axis=1)\n",
    "\n",
    "# 🧮 Accuracy and F1 Score\n",
    "accuracy = accuracy_score(y_true, y_pred)\n",
    "f1 = f1_score(y_true, y_pred, average='weighted')\n",
    "\n",
    "print(f\"\\n✅ Accuracy: {accuracy:.4f}\")\n",
    "print(f\"✅ Weighted F1 Score: {f1:.4f}\\n\")\n",
    "\n",
    "# 📊 Full classification report with zero_division=1 to avoid undefined metric warnings\n",
    "labels = list(test_generator.class_indices.keys())\n",
    "print(\"📋 Classification Report:\")\n",
    "print(classification_report(y_true, y_pred, target_names=labels, zero_division=1))\n",
    "\n",
    "# Confusion Matrix Plot\n",
    "cm = confusion_matrix(y_true, y_pred)\n",
    "plt.figure(figsize=(6, 5))\n",
    "sns.heatmap(cm, annot=True, fmt='d', cmap='Blues', xticklabels=labels, yticklabels=labels)\n",
    "plt.ylabel('True Label')\n",
    "plt.xlabel('Predicted Label')\n",
    "plt.title('Confusion Matrix')\n",
    "plt.show()\n",
    "\n",
    "# Suggestions for training with class weights\n",
    "# If you are retraining the model, consider using class weights:\n",
    "# from sklearn.utils import class_weight\n",
    "# class_weights = class_weight.compute_class_weight('balanced', classes=np.unique(y_train), y=y_train)\n",
    "# model.fit(train_generator, class_weight=class_weights, ...)\n"
   ]
  },
  {
   "cell_type": "code",
   "execution_count": 108,
   "id": "217e12a2-f0d1-45a6-81e3-f7dcdfebdf32",
   "metadata": {},
   "outputs": [
    {
     "name": "stdout",
     "output_type": "stream",
     "text": [
      "Found 63 images belonging to 2 classes.\n"
     ]
    },
    {
     "name": "stderr",
     "output_type": "stream",
     "text": [
      "C:\\Users\\Timothy\\AppData\\Local\\Programs\\Python\\Python312\\Lib\\site-packages\\keras\\src\\trainers\\data_adapters\\py_dataset_adapter.py:121: UserWarning: Your `PyDataset` class should call `super().__init__(**kwargs)` in its constructor. `**kwargs` can include `workers`, `use_multiprocessing`, `max_queue_size`. Do not pass these arguments to `fit()`, as they will be ignored.\n",
      "  self._warn_if_super_not_called()\n"
     ]
    },
    {
     "name": "stdout",
     "output_type": "stream",
     "text": [
      "\u001b[1m2/2\u001b[0m \u001b[32m━━━━━━━━━━━━━━━━━━━━\u001b[0m\u001b[37m\u001b[0m \u001b[1m2s\u001b[0m 750ms/step\n",
      "Accuracy Score: 66.67%\n",
      "Confusion Matrix:\n"
     ]
    },
    {
     "data": {
      "image/png": "[encoded data removed]",
      "text/plain": [
       "<Figure size 800x600 with 2 Axes>"
      ]
     },
     "metadata": {},
     "output_type": "display_data"
    },
    {
     "name": "stdout",
     "output_type": "stream",
     "text": [
      "Classification Report:\n",
      "              precision    recall  f1-score   support\n",
      "\n",
      "           0       0.00      0.00      0.00        21\n",
      "           1       0.67      1.00      0.80        42\n",
      "\n",
      "    accuracy                           0.67        63\n",
      "   macro avg       0.33      0.50      0.40        63\n",
      "weighted avg       0.44      0.67      0.53        63\n",
      "\n"
     ]
    },
    {
     "name": "stderr",
     "output_type": "stream",
     "text": [
      "C:\\Users\\Timothy\\AppData\\Local\\Programs\\Python\\Python312\\Lib\\site-packages\\sklearn\\metrics\\_classification.py:1565: UndefinedMetricWarning: Precision is ill-defined and being set to 0.0 in labels with no predicted samples. Use `zero_division` parameter to control this behavior.\n",
      "  _warn_prf(average, modifier, f\"{metric.capitalize()} is\", len(result))\n",
      "C:\\Users\\Timothy\\AppData\\Local\\Programs\\Python\\Python312\\Lib\\site-packages\\sklearn\\metrics\\_classification.py:1565: UndefinedMetricWarning: Precision is ill-defined and being set to 0.0 in labels with no predicted samples. Use `zero_division` parameter to control this behavior.\n",
      "  _warn_prf(average, modifier, f\"{metric.capitalize()} is\", len(result))\n",
      "C:\\Users\\Timothy\\AppData\\Local\\Programs\\Python\\Python312\\Lib\\site-packages\\sklearn\\metrics\\_classification.py:1565: UndefinedMetricWarning: Precision is ill-defined and being set to 0.0 in labels with no predicted samples. Use `zero_division` parameter to control this behavior.\n",
      "  _warn_prf(average, modifier, f\"{metric.capitalize()} is\", len(result))\n"
     ]
    }
   ],
   "source": [
    "import numpy as np\n",
    "import seaborn as sns\n",
    "import matplotlib.pyplot as plt\n",
    "from sklearn.metrics import accuracy_score, confusion_matrix, classification_report\n",
    "from tensorflow.keras.models import load_model\n",
    "from tensorflow.keras.preprocessing.image import ImageDataGenerator\n",
    "\n",
    "# Load your model\n",
    "model = load_model(\"breast_cancer_model.keras\")\n",
    "\n",
    "# Prepare your data (assuming you have X_train, y_train, X_test, y_test ready)\n",
    "# If you are using image data, you might need to load it using ImageDataGenerator\n",
    "\n",
    "# Example of loading test data\n",
    "test_dir = r\"C:/Users/Timothy/archive (1)\"  # Path to your test data\n",
    "test_datagen = ImageDataGenerator(rescale=1.0 / 255)\n",
    "\n",
    "# Assuming the model expects images of a certain size\n",
    "input_shape = model.input_shape[1:3]  # (height, width)\n",
    "\n",
    "test_generator = test_datagen.flow_from_directory(\n",
    "    test_dir,\n",
    "    target_size=input_shape,\n",
    "    batch_size=32,\n",
    "    class_mode='categorical',\n",
    "    shuffle=False\n",
    ")\n",
    "\n",
    "# Get true labels\n",
    "y_test = test_generator.classes\n",
    "\n",
    "# Define the evaluation function\n",
    "def algorithm(model, X_test, y_test):\n",
    "    # Make predictions\n",
    "    prediction_probs = model.predict(X_test)\n",
    "    prediction = np.argmax(prediction_probs, axis=1)\n",
    "\n",
    "    # Calculate accuracy\n",
    "    accuracy = accuracy_score(y_test, prediction)\n",
    "    print(f'Accuracy Score: {accuracy * 100:.2f}%')\n",
    "\n",
    "    # Confusion Matrix\n",
    "    print('Confusion Matrix:')\n",
    "    cm = confusion_matrix(y_test, prediction)\n",
    "\n",
    "    # Create labels for the confusion matrix\n",
    "    group_names = [\"True Negative\", \"False Positive\", 'False Negative', \"True Positive\"]\n",
    "    group_counts = ['{0:0.0f}'.format(value) for value in cm.flatten()]\n",
    "    group_percentages = ['{0:.2%}'.format(value) for value in cm.flatten() / np.sum(cm)]\n",
    "    labels = [f\"{v1}\\n{v2}\\n{v3}\" for v1, v2, v3 in zip(group_names, group_counts, group_percentages)]\n",
    "    labels = np.asarray(labels).reshape(2, 2)\n",
    "\n",
    "    # Plot confusion matrix\n",
    "    plt.figure(figsize=(8, 6))\n",
    "    sns.heatmap(cm, annot=labels, fmt=\"\", cmap='Blues')\n",
    "    plt.title(\"Confusion Matrix\")\n",
    "    plt.xlabel('Predicted Label')\n",
    "    plt.ylabel('True Label')\n",
    "    plt.show()\n",
    "\n",
    "    # Print classification report\n",
    "    print(\"Classification Report:\")\n",
    "    print(classification_report(y_test, prediction))\n",
    "\n",
    "# Call the evaluation function\n",
    "algorithm(model, test_generator, y_test)\n"
   ]
  },
  {
   "cell_type": "code",
   "execution_count": 109,
   "id": "d9931e13-3cd4-44f8-a7f7-f2158762a032",
   "metadata": {},
   "outputs": [
    {
     "name": "stdout",
     "output_type": "stream",
     "text": [
      "Found 63 images belonging to 2 classes.\n"
     ]
    },
    {
     "name": "stderr",
     "output_type": "stream",
     "text": [
      "C:\\Users\\Timothy\\AppData\\Local\\Programs\\Python\\Python312\\Lib\\site-packages\\keras\\src\\trainers\\data_adapters\\py_dataset_adapter.py:121: UserWarning: Your `PyDataset` class should call `super().__init__(**kwargs)` in its constructor. `**kwargs` can include `workers`, `use_multiprocessing`, `max_queue_size`. Do not pass these arguments to `fit()`, as they will be ignored.\n",
      "  self._warn_if_super_not_called()\n"
     ]
    },
    {
     "name": "stdout",
     "output_type": "stream",
     "text": [
      "\n",
      "✅ Overall Accuracy: 0.6667\n",
      "\n",
      "📋 Classification Report:\n",
      "              precision    recall  f1-score   support\n",
      "\n",
      "           0       0.00      0.00      0.00        21\n",
      "           1       0.67      1.00      0.80        42\n",
      "\n",
      "    accuracy                           0.67        63\n",
      "   macro avg       0.33      0.50      0.40        63\n",
      "weighted avg       0.44      0.67      0.53        63\n",
      "\n",
      "\n",
      "🔴 Special attention to Class '0' metrics:\n",
      "Precision: 0.000\n",
      "Recall:    0.000\n",
      "F1-Score:  0.000\n",
      "Support:   21\n",
      "⚠️ Recall for Class '0' is very low. Model is missing class 0 predictions.\n",
      "⚠️ F1-score for Class '0' is very low. Consider retraining or adjusting your model.\n"
     ]
    },
    {
     "name": "stderr",
     "output_type": "stream",
     "text": [
      "C:\\Users\\Timothy\\AppData\\Local\\Programs\\Python\\Python312\\Lib\\site-packages\\IPython\\core\\pylabtools.py:170: UserWarning: Glyph 128202 (\\N{BAR CHART}) missing from font(s) DejaVu Sans.\n",
      "  fig.canvas.print_figure(bytes_io, **kw)\n"
     ]
    },
    {
     "data": {
      "image/png": "[encoded data removed]",
      "text/plain": [
       "<Figure size 700x600 with 1 Axes>"
      ]
     },
     "metadata": {},
     "output_type": "display_data"
    },
    {
     "data": {
      "image/png": "[encoded data removed]",
      "text/plain": [
       "<Figure size 800x500 with 1 Axes>"
      ]
     },
     "metadata": {},
     "output_type": "display_data"
    }
   ],
   "source": [
    "import numpy as np\n",
    "import seaborn as sns\n",
    "import matplotlib.pyplot as plt\n",
    "from sklearn.metrics import accuracy_score, confusion_matrix, classification_report\n",
    "from tensorflow.keras.models import load_model\n",
    "from tensorflow.keras.preprocessing.image import ImageDataGenerator\n",
    "\n",
    "# Load model\n",
    "model = load_model(\"breast_cancer_model.keras\")\n",
    "\n",
    "# Prepare test data\n",
    "test_dir = r\"C:/Users/Timothy/archive (1)\"\n",
    "test_datagen = ImageDataGenerator(rescale=1.0 / 255)\n",
    "input_shape = model.input_shape[1:3]\n",
    "\n",
    "test_generator = test_datagen.flow_from_directory(\n",
    "    test_dir,\n",
    "    target_size=input_shape,\n",
    "    batch_size=32,\n",
    "    class_mode='categorical',\n",
    "    shuffle=False\n",
    ")\n",
    "\n",
    "y_true = test_generator.classes\n",
    "class_labels = list(test_generator.class_indices.keys())\n",
    "\n",
    "# Predictions\n",
    "y_pred_probs = model.predict(test_generator, verbose=0)\n",
    "y_pred = np.argmax(y_pred_probs, axis=1)\n",
    "\n",
    "# Evaluation metrics\n",
    "accuracy = accuracy_score(y_true, y_pred)\n",
    "print(f\"\\n✅ Overall Accuracy: {accuracy:.4f}\\n\")\n",
    "\n",
    "report_dict = classification_report(y_true, y_pred, target_names=class_labels, zero_division=0, output_dict=True)\n",
    "\n",
    "# Print classification report as usual\n",
    "print(\"📋 Classification Report:\")\n",
    "print(classification_report(y_true, y_pred, target_names=class_labels, zero_division=0))\n",
    "\n",
    "# Extract class 0 metrics\n",
    "class0_metrics = report_dict.get(class_labels[0], None)\n",
    "if class0_metrics:\n",
    "    print(\"\\n🔴 Special attention to Class '0' metrics:\")\n",
    "    print(f\"Precision: {class0_metrics['precision']:.3f}\")\n",
    "    print(f\"Recall:    {class0_metrics['recall']:.3f}\")\n",
    "    print(f\"F1-Score:  {class0_metrics['f1-score']:.3f}\")\n",
    "    print(f\"Support:   {int(class0_metrics['support'])}\")\n",
    "\n",
    "    # Warning if recall or f1-score is very low (adjust thresholds as you want)\n",
    "    if class0_metrics['recall'] < 0.2:\n",
    "        print(\"⚠️ Recall for Class '0' is very low. Model is missing class 0 predictions.\")\n",
    "    if class0_metrics['f1-score'] < 0.3:\n",
    "        print(\"⚠️ F1-score for Class '0' is very low. Consider retraining or adjusting your model.\")\n",
    "\n",
    "# Confusion matrix with enhanced annotations\n",
    "cm = confusion_matrix(y_true, y_pred)\n",
    "\n",
    "# Custom annotation to highlight problematic cells for class 0\n",
    "def custom_annot(cm):\n",
    "    group_names = [\"TN\", \"FP\", \"FN\", \"TP\"]\n",
    "    annotations = []\n",
    "    for i in range(2):\n",
    "        for j in range(2):\n",
    "            index = i * 2 + j\n",
    "            val = cm[i, j]\n",
    "            # Highlight zero values where model failed to predict class 0 properly\n",
    "            if (i == 0 and j == 0 and val == 0) or (i == 0 and j == 1 and val == 0) or (i == 1 and j == 0 and val == 0):\n",
    "                annotations.append(f\"{val}\\n⚠️ Zero Count!\")\n",
    "            else:\n",
    "                annotations.append(str(val))\n",
    "    return np.array(annotations).reshape(2, 2)\n",
    "\n",
    "plt.figure(figsize=(7,6))\n",
    "sns.heatmap(cm, annot=custom_annot(cm), fmt=\"\", cmap=\"coolwarm\", cbar=False, xticklabels=class_labels, yticklabels=class_labels)\n",
    "plt.title(\"📊 Confusion Matrix (with zero count highlights)\")\n",
    "plt.xlabel(\"Predicted Label\")\n",
    "plt.ylabel(\"True Label\")\n",
    "plt.show()\n",
    "\n",
    "# Bar plot for class-wise metrics to visualize imbalance\n",
    "import pandas as pd\n",
    "metrics_df = pd.DataFrame(report_dict).T.iloc[:-3, :3]  # exclude accuracy, macro avg, weighted avg\n",
    "\n",
    "metrics_df.plot(kind='bar', figsize=(8,5), colormap='Paired')\n",
    "plt.title(\"Class-wise Precision, Recall, F1-Score\")\n",
    "plt.ylabel(\"Score\")\n",
    "plt.ylim(0, 1.1)\n",
    "plt.grid(axis='y')\n",
    "plt.xticks(rotation=0)\n",
    "plt.show()\n"
   ]
  },
  {
   "cell_type": "code",
   "execution_count": null,
   "id": "19c514b3-8b3f-4743-a7f5-924e4f9b839c",
   "metadata": {},
   "outputs": [],
   "source": []
  }
 ],
 "metadata": {
  "kernelspec": {
   "display_name": "Python 3 (ipykernel)",
   "language": "python",
   "name": "python3"
  },
  "language_info": {
   "codemirror_mode": {
    "name": "ipython",
    "version": 3
   },
   "file_extension": ".py",
   "mimetype": "text/x-python",
   "name": "python",
   "nbconvert_exporter": "python",
   "pygments_lexer": "ipython3",
   "version": "3.12.7"
  }
 },
 "nbformat": 4,
 "nbformat_minor": 5
}
