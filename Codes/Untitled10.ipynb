{
 "cells": [
  {
   "cell_type": "code",
   "execution_count": 12,
   "id": "c8d386f0-bfa9-4a96-9e5f-92c604101e5d",
   "metadata": {},
   "outputs": [
    {
     "name": "stdout",
     "output_type": "stream",
     "text": [
      "Requirement already satisfied: split-folders in c:\\users\\timothy\\appdata\\local\\programs\\python\\python312\\lib\\site-packages (0.5.1)\n"
     ]
    },
    {
     "name": "stderr",
     "output_type": "stream",
     "text": [
      "\n",
      "[notice] A new release of pip is available: 24.3.1 -> 25.1.1\n",
      "[notice] To update, run: C:\\Users\\Timothy\\AppData\\Local\\Programs\\Python\\Python312\\python.exe -m pip install --upgrade pip\n"
     ]
    }
   ],
   "source": [
    "import sys\n",
    "!{sys.executable} -m pip install split-folders"
   ]
  },
  {
   "cell_type": "code",
   "execution_count": 13,
   "id": "8cc053b7-0c26-4ad4-accf-6a43f0cf66ed",
   "metadata": {},
   "outputs": [],
   "source": [
    "import splitfolders\n"
   ]
  },
  {
   "cell_type": "code",
   "execution_count": 15,
   "id": "d277198c-1cb7-4374-8d0e-83d322dff7d1",
   "metadata": {},
   "outputs": [
    {
     "name": "stderr",
     "output_type": "stream",
     "text": [
      "Copying files: 0 files [00:00, ? files/s]\n"
     ]
    }
   ],
   "source": [
    "splitfolders.ratio(\"C:/Users/Timothy/breast cancer classification/training/project\", output=\"C:/Users/Timothy/breast cancer classification/training/dataset\", seed=1337, ratio=(.7, .1, .2), move=True)\n"
   ]
  },
  {
   "cell_type": "code",
   "execution_count": 17,
   "id": "1455b546-a7a0-4799-b4cd-71f60d2dc0c8",
   "metadata": {},
   "outputs": [
    {
     "name": "stdout",
     "output_type": "stream",
     "text": [
      "['benign', 'malignant']\n"
     ]
    }
   ],
   "source": [
    "import os\n",
    "\n",
    "path = \"C:/Users/Timothy/breast cancer classification/training/project\"\n",
    "print(os.listdir(path))\n"
   ]
  },
  {
   "cell_type": "code",
   "execution_count": 18,
   "id": "30869ea3-e44c-4616-97e8-c45bb9988b3b",
   "metadata": {},
   "outputs": [
    {
     "ename": "FileNotFoundError",
     "evalue": "[WinError 3] The system cannot find the path specified: 'dataset/train'",
     "output_type": "error",
     "traceback": [
      "\u001b[31m---------------------------------------------------------------------------\u001b[39m",
      "\u001b[31mFileNotFoundError\u001b[39m                         Traceback (most recent call last)",
      "\u001b[36mCell\u001b[39m\u001b[36m \u001b[39m\u001b[32mIn[18]\u001b[39m\u001b[32m, line 7\u001b[39m\n\u001b[32m      4\u001b[39m val_dir = \u001b[33m\"\u001b[39m\u001b[33mdataset/val\u001b[39m\u001b[33m\"\u001b[39m\n\u001b[32m      5\u001b[39m test_dir = \u001b[33m\"\u001b[39m\u001b[33mdataset/test\u001b[39m\u001b[33m\"\u001b[39m\n\u001b[32m----> \u001b[39m\u001b[32m7\u001b[39m \u001b[38;5;28mprint\u001b[39m(\u001b[33m\"\u001b[39m\u001b[33mTrain Directory:\u001b[39m\u001b[33m\"\u001b[39m, \u001b[43mos\u001b[49m\u001b[43m.\u001b[49m\u001b[43mlistdir\u001b[49m\u001b[43m(\u001b[49m\u001b[43mtrain_dir\u001b[49m\u001b[43m)\u001b[49m)\n\u001b[32m      8\u001b[39m \u001b[38;5;28mprint\u001b[39m(\u001b[33m\"\u001b[39m\u001b[33mValidation Directory:\u001b[39m\u001b[33m\"\u001b[39m, os.listdir(val_dir))\n\u001b[32m      9\u001b[39m \u001b[38;5;28mprint\u001b[39m(\u001b[33m\"\u001b[39m\u001b[33mTest Directory:\u001b[39m\u001b[33m\"\u001b[39m, os.listdir(test_dir))\n",
      "\u001b[31mFileNotFoundError\u001b[39m: [WinError 3] The system cannot find the path specified: 'dataset/train'"
     ]
    }
   ],
   "source": [
    "import os\n",
    "\n",
    "train_dir = \"dataset/train\"\n",
    "val_dir = \"dataset/val\"\n",
    "test_dir = \"dataset/test\"\n",
    "\n",
    "print(\"Train Directory:\", os.listdir(train_dir))\n",
    "print(\"Validation Directory:\", os.listdir(val_dir))\n",
    "print(\"Test Directory:\", os.listdir(test_dir))\n"
   ]
  },
  {
   "cell_type": "code",
   "execution_count": 19,
   "id": "be716908-2386-45be-afe8-34dc56db5d9e",
   "metadata": {},
   "outputs": [
    {
     "name": "stderr",
     "output_type": "stream",
     "text": [
      "Copying files: 0 files [00:00, ? files/s]\n"
     ]
    }
   ],
   "source": [
    "splitfolders.ratio(\"C:/Users/Timothy/breast cancer classification/training/project\", output=\"C:/Users/Timothy/breast cancer classification/training/dataset\", seed=1337, ratio=(.7, .1, .2), move=True)\n"
   ]
  },
  {
   "cell_type": "code",
   "execution_count": 23,
   "id": "bbf9273d-582e-445d-bfe1-4f3a657e7888",
   "metadata": {},
   "outputs": [
    {
     "name": "stdout",
     "output_type": "stream",
     "text": [
      "Warning: C:/Users/Timothy/breast cancer classification/training/project\\benign\\1 does not exist. Skipping this folder.\n",
      "Warning: C:/Users/Timothy/breast cancer classification/training/project\\malignant\\0 does not exist. Skipping this folder.\n",
      "Images have been successfully split into train, validation, and test sets.\n"
     ]
    }
   ],
   "source": [
    "import os\n",
    "import random\n",
    "import shutil\n",
    "\n",
    "# Define full paths for source and destination folders\n",
    "source_folder = 'C:/Users/Timothy/breast cancer classification/training/project'  # Source folder where your images are located\n",
    "train_folder = 'C:/Users/Timothy/breast cancer classification/training/dataset/train'\n",
    "val_folder = 'C:/Users/Timothy/breast cancer classification/training/dataset/val'\n",
    "test_folder = 'C:/Users/Timothy/breast cancer classification/training/dataset/test'\n",
    "\n",
    "# Classes and subfolders (0 and 1)\n",
    "classes = ['benign', 'malignant']\n",
    "subfolders = ['0', '1']\n",
    "\n",
    "# Function to split and move files\n",
    "def move_images(class_name, subfolder_name):\n",
    "    source_path = os.path.join(source_folder, class_name, subfolder_name)\n",
    "    if not os.path.exists(source_path):\n",
    "        print(f\"Warning: {source_path} does not exist. Skipping this folder.\")\n",
    "        return\n",
    "\n",
    "    images = os.listdir(source_path)\n",
    "\n",
    "    total = len(images)\n",
    "    train_size = int(0.7 * total)  # 70% for train\n",
    "    val_size = int(0.1 * total)    # 20% for validation\n",
    "    test_size = total - train_size - val_size  # Remaining for test\n",
    "\n",
    "    # Create subfolders in train, val, and test if they don't exist\n",
    "    os.makedirs(os.path.join(train_folder, class_name, subfolder_name), exist_ok=True)\n",
    "    os.makedirs(os.path.join(val_folder, class_name, subfolder_name), exist_ok=True)\n",
    "    os.makedirs(os.path.join(test_folder, class_name, subfolder_name), exist_ok=True)\n",
    "\n",
    "    # Shuffle images for randomness\n",
    "    random.shuffle(images)\n",
    "\n",
    "    # Move images to respective folders\n",
    "    for i, image in enumerate(images):\n",
    "        image_path = os.path.join(source_path, image)\n",
    "        if i < train_size:\n",
    "            shutil.copy(image_path, os.path.join(train_folder, class_name, subfolder_name, image))\n",
    "        elif i < train_size + val_size:\n",
    "            shutil.copy(image_path, os.path.join(val_folder, class_name, subfolder_name, image))\n",
    "        else:\n",
    "            shutil.copy(image_path, os.path.join(test_folder, class_name, subfolder_name, image))\n",
    "\n",
    "# Iterate over classes and subfolders\n",
    "for class_name in classes:\n",
    "    for subfolder_name in subfolders:\n",
    "        move_images(class_name, subfolder_name)\n",
    "\n",
    "print(\"Images have been successfully split into train, validation, and test sets.\")\n"
   ]
  },
  {
   "cell_type": "code",
   "execution_count": 24,
   "id": "1e1fdf5b-28f5-4ad8-a2cf-6b6b60dc09b9",
   "metadata": {},
   "outputs": [
    {
     "name": "stdout",
     "output_type": "stream",
     "text": [
      "Warning: C:/Users/Timothy/breast cancer classification/training/project\\benign\\1 does not exist. Skipping this folder.\n",
      "Warning: C:/Users/Timothy/breast cancer classification/training/project\\malignant\\0 does not exist. Skipping this folder.\n",
      "Images have been successfully split into train, validation, and test sets.\n"
     ]
    }
   ],
   "source": [
    "import os\n",
    "import random\n",
    "import shutil\n",
    "\n",
    "# Define full paths for source and destination folders\n",
    "source_folder = 'C:/Users/Timothy/breast cancer classification/training/project'  # Source folder where your images are located\n",
    "train_folder = 'C:/Users/Timothy/breast cancer classification/training/dataset/train'\n",
    "val_folder = 'C:/Users/Timothy/breast cancer classification/training/dataset/val'\n",
    "test_folder = 'C:/Users/Timothy/breast cancer classification/training/dataset/test'\n",
    "\n",
    "# Classes and subfolders (0 and 1)\n",
    "classes = ['benign', 'malignant']\n",
    "subfolders = ['0', '1']\n",
    "\n",
    "# Function to split and move files\n",
    "def move_images(class_name, subfolder_name):\n",
    "    source_path = os.path.join(source_folder, class_name, subfolder_name)\n",
    "    if not os.path.exists(source_path):\n",
    "        print(f\"Warning: {source_path} does not exist. Skipping this folder.\")\n",
    "        return\n",
    "\n",
    "    images = os.listdir(source_path)\n",
    "\n",
    "    total = len(images)\n",
    "    train_size = int(0.7 * total)  # 70% for train\n",
    "    val_size = int(0.1 * total)    # 10% for validation\n",
    "    test_size = total - train_size - val_size  # Remaining 20% for test\n",
    "\n",
    "    # Create subfolders in train, val, and test if they don't exist\n",
    "    os.makedirs(os.path.join(train_folder, class_name, subfolder_name), exist_ok=True)\n",
    "    os.makedirs(os.path.join(val_folder, class_name, subfolder_name), exist_ok=True)\n",
    "    os.makedirs(os.path.join(test_folder, class_name, subfolder_name), exist_ok=True)\n",
    "\n",
    "    # Shuffle images for randomness\n",
    "    random.shuffle(images)\n",
    "\n",
    "    # Move images to respective folders\n",
    "    for i, image in enumerate(images):\n",
    "        image_path = os.path.join(source_path, image)\n",
    "        if i < train_size:\n",
    "            shutil.copy(image_path, os.path.join(train_folder, class_name, subfolder_name, image))\n",
    "        elif i < train_size + val_size:\n",
    "            shutil.copy(image_path, os.path.join(val_folder, class_name, subfolder_name, image))\n",
    "        else:\n",
    "            shutil.copy(image_path, os.path.join(test_folder, class_name, subfolder_name, image))\n",
    "\n",
    "# Iterate over classes and subfolders\n",
    "for class_name in classes:\n",
    "    for subfolder_name in subfolders:\n",
    "        move_images(class_name, subfolder_name)\n",
    "\n",
    "print(\"Images have been successfully split into train, validation, and test sets.\")\n"
   ]
  },
  {
   "cell_type": "code",
   "execution_count": null,
   "id": "2dcecd84-c89a-449c-9b01-77b4020edf34",
   "metadata": {},
   "outputs": [],
   "source": []
  }
 ],
 "metadata": {
  "kernelspec": {
   "display_name": "Python 3 (ipykernel)",
   "language": "python",
   "name": "python3"
  },
  "language_info": {
   "codemirror_mode": {
    "name": "ipython",
    "version": 3
   },
   "file_extension": ".py",
   "mimetype": "text/x-python",
   "name": "python",
   "nbconvert_exporter": "python",
   "pygments_lexer": "ipython3",
   "version": "3.12.7"
  }
 },
 "nbformat": 4,
 "nbformat_minor": 5
}
