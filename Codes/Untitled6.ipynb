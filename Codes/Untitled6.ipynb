{
 "cells": [
  {
   "cell_type": "code",
   "execution_count": 1,
   "id": "75e6d7bb-832c-4659-ae57-dbdd20d93d78",
   "metadata": {},
   "outputs": [],
   "source": [
    "import tensorflow as tf"
   ]
  },
  {
   "cell_type": "code",
   "execution_count": 2,
   "id": "6de028d1-eff4-4871-be04-860686064ff7",
   "metadata": {},
   "outputs": [
    {
     "data": {
      "text/plain": [
       "<_TensorSliceDataset element_spec=TensorSpec(shape=(), dtype=tf.int32, name=None)>"
      ]
     },
     "execution_count": 2,
     "metadata": {},
     "output_type": "execute_result"
    }
   ],
   "source": [
    "daily_sales_numbers = [21, 22, -108, 31, -1, 32, 34,31]\n",
    "\n",
    "tf_dataset = tf.data.Dataset.from_tensor_slices(daily_sales_numbers)\n",
    "tf_dataset"
   ]
  },
  {
   "cell_type": "code",
   "execution_count": 3,
   "id": "aa5a1708-b093-4094-a578-adf9cda8c3e8",
   "metadata": {},
   "outputs": [
    {
     "name": "stdout",
     "output_type": "stream",
     "text": [
      "21\n",
      "22\n",
      "-108\n",
      "31\n",
      "-1\n",
      "32\n",
      "34\n",
      "31\n"
     ]
    }
   ],
   "source": [
    "for sales in tf_dataset:\n",
    "    print(sales.numpy())"
   ]
  },
  {
   "cell_type": "code",
   "execution_count": 4,
   "id": "2fd82556-ba99-4b38-847c-614e474de674",
   "metadata": {},
   "outputs": [
    {
     "name": "stdout",
     "output_type": "stream",
     "text": [
      "21\n",
      "22\n",
      "-108\n",
      "31\n",
      "-1\n",
      "32\n",
      "34\n",
      "31\n"
     ]
    }
   ],
   "source": [
    "for sales in tf_dataset.as_numpy_iterator():\n",
    "    print(sales)"
   ]
  },
  {
   "cell_type": "code",
   "execution_count": 5,
   "id": "70070969-105e-43b6-8af9-c41e7e2db21c",
   "metadata": {},
   "outputs": [
    {
     "name": "stdout",
     "output_type": "stream",
     "text": [
      "21\n",
      "22\n",
      "-108\n"
     ]
    }
   ],
   "source": [
    "for sales in tf_dataset.take(3):\n",
    "    print(sales.numpy())"
   ]
  },
  {
   "cell_type": "code",
   "execution_count": 6,
   "id": "b1e4024d-22fc-4db9-9a56-a4b195e7aa3d",
   "metadata": {},
   "outputs": [
    {
     "name": "stdout",
     "output_type": "stream",
     "text": [
      "21\n",
      "22\n",
      "31\n",
      "32\n",
      "34\n",
      "31\n"
     ]
    }
   ],
   "source": [
    "tf_dataset = tf_dataset.filter(lambda x: x>0)\n",
    "for sales in tf_dataset.as_numpy_iterator():\n",
    "    print(sales)"
   ]
  },
  {
   "cell_type": "code",
   "execution_count": 7,
   "id": "cc666eb9-c9df-4976-8c23-9a7302550af1",
   "metadata": {},
   "outputs": [
    {
     "name": "stdout",
     "output_type": "stream",
     "text": [
      "1512\n",
      "1584\n",
      "2232\n",
      "2304\n",
      "2448\n",
      "2232\n"
     ]
    }
   ],
   "source": [
    "tf_dataset = tf_dataset.map(lambda x: x*72)\n",
    "for sales in tf_dataset.as_numpy_iterator():\n",
    "    print(sales)"
   ]
  },
  {
   "cell_type": "code",
   "execution_count": 8,
   "id": "1d8c6e2f-7475-42a5-ba26-833a696bdf70",
   "metadata": {},
   "outputs": [
    {
     "name": "stdout",
     "output_type": "stream",
     "text": [
      "1584\n",
      "1512\n",
      "2304\n",
      "2232\n",
      "2232\n",
      "2448\n"
     ]
    }
   ],
   "source": [
    "tf_dataset = tf_dataset.shuffle(2)\n",
    "for sales in tf_dataset.as_numpy_iterator():\n",
    "    print(sales)"
   ]
  },
  {
   "cell_type": "code",
   "execution_count": 9,
   "id": "fbfde4c2-da41-458d-a99a-48e93bfa38a1",
   "metadata": {},
   "outputs": [
    {
     "name": "stdout",
     "output_type": "stream",
     "text": [
      "[1584 2232]\n",
      "[1512 2448]\n",
      "[2232 2304]\n"
     ]
    }
   ],
   "source": [
    "for sales_batch in tf_dataset.batch(2):\n",
    "    print(sales_batch.numpy())"
   ]
  },
  {
   "cell_type": "code",
   "execution_count": 10,
   "id": "891b2bcd-e7a9-4d79-87e4-a043af759dee",
   "metadata": {},
   "outputs": [
    {
     "name": "stdout",
     "output_type": "stream",
     "text": [
      "[1512 2232]\n",
      "[1584 2448]\n",
      "[2304 2232]\n"
     ]
    }
   ],
   "source": [
    "tf_dataset = tf.data.Dataset.from_tensor_slices(daily_sales_numbers)\n",
    "\n",
    "tf_dataset = tf_dataset.filter(lambda x: x>0).map(lambda y: y*72).shuffle(2).batch(2)\n",
    "for sales in tf_dataset.as_numpy_iterator():\n",
    "    print(sales)"
   ]
  },
  {
   "cell_type": "code",
   "execution_count": 13,
   "id": "81d03e37-2d79-46c1-8937-1bff234ef7a0",
   "metadata": {},
   "outputs": [
    {
     "name": "stdout",
     "output_type": "stream",
     "text": [
      "10237\n"
     ]
    }
   ],
   "source": [
    "import glob, os\n",
    "print(len(glob.glob(r'C:/Users/Timothy/breast cancer/training/jpeg/*')))\n",
    "# should print the number of JPEGs you expect\n"
   ]
  },
  {
   "cell_type": "code",
   "execution_count": 14,
   "id": "362de990-e3e7-4edd-b43a-1c7c83136954",
   "metadata": {},
   "outputs": [
    {
     "data": {
      "text/plain": [
       "10237"
      ]
     },
     "execution_count": 14,
     "metadata": {},
     "output_type": "execute_result"
    }
   ],
   "source": [
    "image_count = len(images_ds)\n",
    "image_count"
   ]
  },
  {
   "cell_type": "code",
   "execution_count": 15,
   "id": "fe515746-b061-4ab3-8efb-4b70773ff8bf",
   "metadata": {},
   "outputs": [
    {
     "data": {
      "text/plain": [
       "tensorflow.python.data.ops.from_tensor_slices_op._TensorSliceDataset"
      ]
     },
     "execution_count": 15,
     "metadata": {},
     "output_type": "execute_result"
    }
   ],
   "source": [
    "type(images_ds)"
   ]
  },
  {
   "cell_type": "code",
   "execution_count": 16,
   "id": "57541c30-4785-4186-8583-f306482e468c",
   "metadata": {},
   "outputs": [
    {
     "name": "stdout",
     "output_type": "stream",
     "text": [
      "b'C:\\\\Users\\\\Timothy\\\\breast cancer\\\\training\\\\jpeg\\\\1-004_14.jpg'\n",
      "b'C:\\\\Users\\\\Timothy\\\\breast cancer\\\\training\\\\jpeg\\\\1-005_8.jpg'\n",
      "b'C:\\\\Users\\\\Timothy\\\\breast cancer\\\\training\\\\jpeg\\\\1-002_7.jpg'\n"
     ]
    }
   ],
   "source": [
    "images_ds = images_ds.shuffle(200)\n",
    "for file in images_ds.take(3):\n",
    "    print(file.numpy())"
   ]
  },
  {
   "cell_type": "code",
   "execution_count": 17,
   "id": "2fe61279-0b6f-4f16-96f1-5e1bafa8eca4",
   "metadata": {},
   "outputs": [],
   "source": [
    "class_names = [\"Bening\",\"Malignant\"]"
   ]
  },
  {
   "cell_type": "code",
   "execution_count": 18,
   "id": "81f080cd-e08d-45ad-806a-17bc429b30dd",
   "metadata": {},
   "outputs": [],
   "source": [
    "train_size = int(image_count*0.8)\n",
    "train_ds = images_ds.take(train_size)\n",
    "test_ds = images_ds.skip(train_size)"
   ]
  },
  {
   "cell_type": "code",
   "execution_count": 19,
   "id": "de266d74-dbfb-420d-bc49-de9d4eadeb34",
   "metadata": {},
   "outputs": [
    {
     "data": {
      "text/plain": [
       "8189"
      ]
     },
     "execution_count": 19,
     "metadata": {},
     "output_type": "execute_result"
    }
   ],
   "source": [
    "len(train_ds)"
   ]
  },
  {
   "cell_type": "code",
   "execution_count": 22,
   "id": "c7d6bd27-fce6-4975-aa73-8648ef240520",
   "metadata": {},
   "outputs": [
    {
     "data": {
      "text/plain": [
       "2048"
      ]
     },
     "execution_count": 22,
     "metadata": {},
     "output_type": "execute_result"
    }
   ],
   "source": [
    "len(test_ds)"
   ]
  },
  {
   "cell_type": "code",
   "execution_count": 23,
   "id": "2721376d-7001-49f1-85af-3e6600bed834",
   "metadata": {},
   "outputs": [],
   "source": [
    "def get_label(file_path):\n",
    "    import os\n",
    "    parts = tf.strings.split(file_path, os.path.sep)\n",
    "    return parts[-2]"
   ]
  },
  {
   "cell_type": "code",
   "execution_count": 27,
   "id": "dd7e331b-1267-4007-98a4-a494be57f450",
   "metadata": {},
   "outputs": [
    {
     "data": {
      "text/plain": [
       "<tf.Tensor: shape=(), dtype=string, numpy=b'jpeg'>"
      ]
     },
     "execution_count": 27,
     "metadata": {},
     "output_type": "execute_result"
    }
   ],
   "source": [
    "get_label(\"C:\\\\Users\\\\Timothy\\\\breast cancer\\\\training\\\\jpeg\\\\1-008.jpg\")"
   ]
  },
  {
   "cell_type": "code",
   "execution_count": 25,
   "id": "12b06f90-f558-4ff4-b248-082510b47c45",
   "metadata": {},
   "outputs": [],
   "source": [
    "def process_image(file_path):\n",
    "    label = get_label(file_path)\n",
    "    img = tf.io.read_file(file_path) # load the raw data from the file as a string\n",
    "    img = tf.image.decode_jpeg(img)\n",
    "    img = tf.image.resize(img, [128, 128])\n",
    "    return img, label"
   ]
  },
  {
   "cell_type": "code",
   "execution_count": 28,
   "id": "e8f508d1-5f73-45dc-aadf-d1f717bd2fd7",
   "metadata": {},
   "outputs": [
    {
     "data": {
      "text/plain": [
       "array([[[60.01706 ],\n",
       "        [57.839844],\n",
       "        [54.240845],\n",
       "        [56.577576],\n",
       "        [55.762573],\n",
       "        [61.961243],\n",
       "        [72.570465],\n",
       "        [74.52908 ],\n",
       "        [67.86127 ],\n",
       "        [60.01126 ],\n",
       "        [55.282898],\n",
       "        [50.548615],\n",
       "        [47.063812],\n",
       "        [49.263733],\n",
       "        [54.142212],\n",
       "        [52.305603],\n",
       "        [53.51953 ],\n",
       "        [49.71585 ],\n",
       "        [40.557373],\n",
       "        [39.929993],\n",
       "        [43.452484],\n",
       "        [46.32257 ],\n",
       "        [45.762085],\n",
       "        [45.77823 ],\n",
       "        [49.14853 ],\n",
       "        [54.05008 ],\n",
       "        [54.586823],\n",
       "        [47.729614],\n",
       "        [38.188324],\n",
       "        [35.735718],\n",
       "        [35.017975],\n",
       "        [32.096375],\n",
       "        [31.171875],\n",
       "        [31.317963],\n",
       "        [29.210938],\n",
       "        [25.926056],\n",
       "        [24.480469],\n",
       "        [31.038757],\n",
       "        [36.461304],\n",
       "        [37.156464],\n",
       "        [31.49295 ],\n",
       "        [30.492188],\n",
       "        [30.928864],\n",
       "        [23.598083],\n",
       "        [17.855164],\n",
       "        [16.411774],\n",
       "        [16.252747],\n",
       "        [20.012634],\n",
       "        [25.052277],\n",
       "        [24.858215],\n",
       "        [21.270203],\n",
       "        [18.190002],\n",
       "        [18.172302],\n",
       "        [18.338196],\n",
       "        [19.72647 ],\n",
       "        [26.167725],\n",
       "        [30.459137],\n",
       "        [23.860779],\n",
       "        [23.417206],\n",
       "        [26.00238 ],\n",
       "        [25.368286],\n",
       "        [23.69403 ],\n",
       "        [26.59494 ],\n",
       "        [28.26587 ],\n",
       "        [24.225128],\n",
       "        [22.669556],\n",
       "        [25.080109],\n",
       "        [25.985474],\n",
       "        [22.235565],\n",
       "        [19.342682],\n",
       "        [19.29068 ],\n",
       "        [23.916107],\n",
       "        [30.567596],\n",
       "        [33.66043 ],\n",
       "        [33.484985],\n",
       "        [30.225677],\n",
       "        [28.978668],\n",
       "        [27.475555],\n",
       "        [23.132812],\n",
       "        [20.900513],\n",
       "        [22.911987],\n",
       "        [25.881073],\n",
       "        [27.870422],\n",
       "        [28.967499],\n",
       "        [37.0701  ],\n",
       "        [37.056946],\n",
       "        [30.390442],\n",
       "        [28.241058],\n",
       "        [24.636627],\n",
       "        [25.15271 ],\n",
       "        [30.132782],\n",
       "        [33.155396],\n",
       "        [37.38028 ],\n",
       "        [38.79428 ],\n",
       "        [34.49295 ],\n",
       "        [28.245575],\n",
       "        [31.263794],\n",
       "        [32.07498 ],\n",
       "        [30.352875],\n",
       "        [37.534607],\n",
       "        [39.684357],\n",
       "        [38.275543],\n",
       "        [29.434662],\n",
       "        [24.492188],\n",
       "        [25.301666],\n",
       "        [27.683594],\n",
       "        [25.555298],\n",
       "        [21.186432],\n",
       "        [23.663757],\n",
       "        [30.99057 ],\n",
       "        [33.588837],\n",
       "        [32.94992 ],\n",
       "        [31.347076],\n",
       "        [30.374573],\n",
       "        [28.407928],\n",
       "        [25.163757],\n",
       "        [27.279083],\n",
       "        [29.13272 ],\n",
       "        [24.601562],\n",
       "        [19.38092 ],\n",
       "        [19.488342],\n",
       "        [21.737396],\n",
       "        [25.886108],\n",
       "        [30.111572],\n",
       "        [30.748322],\n",
       "        [37.607452],\n",
       "        [45.169617],\n",
       "        [44.596222]],\n",
       "\n",
       "       [[66.47815 ],\n",
       "        [68.10394 ],\n",
       "        [62.410095],\n",
       "        [59.776825],\n",
       "        [60.55536 ],\n",
       "        [67.666595],\n",
       "        [72.42844 ],\n",
       "        [67.82626 ],\n",
       "        [61.091614],\n",
       "        [57.429688],\n",
       "        [54.5224  ],\n",
       "        [51.433624],\n",
       "        [53.42157 ],\n",
       "        [59.49408 ],\n",
       "        [61.800354],\n",
       "        [57.704712],\n",
       "        [53.567352],\n",
       "        [49.45096 ],\n",
       "        [47.54593 ],\n",
       "        [47.19937 ],\n",
       "        [45.06967 ],\n",
       "        [47.347656],\n",
       "        [51.609924],\n",
       "        [52.155   ],\n",
       "        [49.48474 ],\n",
       "        [48.928284],\n",
       "        [48.132812],\n",
       "        [48.39035 ],\n",
       "        [43.06476 ],\n",
       "        [37.753906],\n",
       "        [34.807068],\n",
       "        [30.366333],\n",
       "        [27.941376],\n",
       "        [22.73819 ],\n",
       "        [20.67981 ],\n",
       "        [20.50473 ],\n",
       "        [17.856812],\n",
       "        [18.519196],\n",
       "        [28.144531],\n",
       "        [34.132904],\n",
       "        [35.523438],\n",
       "        [39.570312],\n",
       "        [40.42929 ],\n",
       "        [34.529327],\n",
       "        [28.418732],\n",
       "        [23.635895],\n",
       "        [20.261719],\n",
       "        [23.480255],\n",
       "        [28.776764],\n",
       "        [28.522797],\n",
       "        [26.791199],\n",
       "        [30.222046],\n",
       "        [34.454407],\n",
       "        [34.649994],\n",
       "        [34.065582],\n",
       "        [32.832733],\n",
       "        [26.782013],\n",
       "        [26.39563 ],\n",
       "        [26.737122],\n",
       "        [27.210602],\n",
       "        [26.809204],\n",
       "        [24.07428 ],\n",
       "        [21.856323],\n",
       "        [24.118774],\n",
       "        [19.255493],\n",
       "        [20.514435],\n",
       "        [22.36502 ],\n",
       "        [22.352173],\n",
       "        [22.796204],\n",
       "        [22.66864 ],\n",
       "        [22.75827 ],\n",
       "        [29.253906],\n",
       "        [41.722992],\n",
       "        [40.45923 ],\n",
       "        [30.516418],\n",
       "        [22.303345],\n",
       "        [15.662262],\n",
       "        [18.821198],\n",
       "        [20.104187],\n",
       "        [18.638885],\n",
       "        [22.511719],\n",
       "        [29.766052],\n",
       "        [33.71591 ],\n",
       "        [31.711853],\n",
       "        [34.240265],\n",
       "        [35.22696 ],\n",
       "        [31.047974],\n",
       "        [24.21875 ],\n",
       "        [20.405884],\n",
       "        [20.585236],\n",
       "        [29.589844],\n",
       "        [41.824493],\n",
       "        [39.64023 ],\n",
       "        [35.33206 ],\n",
       "        [38.11728 ],\n",
       "        [30.850769],\n",
       "        [32.885162],\n",
       "        [33.481323],\n",
       "        [35.433533],\n",
       "        [39.77713 ],\n",
       "        [37.924164],\n",
       "        [35.366272],\n",
       "        [35.587433],\n",
       "        [37.457306],\n",
       "        [39.427032],\n",
       "        [43.324768],\n",
       "        [39.096222],\n",
       "        [31.51358 ],\n",
       "        [29.605621],\n",
       "        [32.323273],\n",
       "        [34.36371 ],\n",
       "        [38.013092],\n",
       "        [40.14453 ],\n",
       "        [40.696167],\n",
       "        [38.64743 ],\n",
       "        [40.755707],\n",
       "        [48.03119 ],\n",
       "        [46.80417 ],\n",
       "        [37.635895],\n",
       "        [31.279114],\n",
       "        [26.243683],\n",
       "        [31.058746],\n",
       "        [37.09857 ],\n",
       "        [44.510376],\n",
       "        [47.021698],\n",
       "        [47.996216],\n",
       "        [46.63434 ],\n",
       "        [43.737885]]], dtype=float32)"
      ]
     },
     "execution_count": 28,
     "metadata": {},
     "output_type": "execute_result"
    }
   ],
   "source": [
    "img, label = process_image(\"C:\\\\Users\\\\Timothy\\\\breast cancer\\\\training\\\\jpeg\\\\1-008.jpg\")\n",
    "img.numpy()[:2]"
   ]
  },
  {
   "cell_type": "code",
   "execution_count": 33,
   "id": "c9594a1d-118f-4b8c-bc9b-abacb24e5044",
   "metadata": {},
   "outputs": [],
   "source": [
    "import tensorflow as tf\n",
    "\n",
    "# Option 1: This is the best approach for TensorFlow datasets\n",
    "def process_image(image, label):\n",
    "    # Process the image\n",
    "    # For example, normalize the image\n",
    "    processed_image = tf.cast(image, tf.float32) / 255.0  # Example processing\n",
    "    return processed_image, label\n",
    "\n",
    "# Apply the function to the datasets\n",
    "train_ds = train_ds.map(process_image)\n",
    "test_ds = test_ds.map(process_image)\n",
    "\n",
    "# Alternative approach if you need a single-argument function:\n",
    "def process_image_alt(inputs):\n",
    "    # Use indexing instead of unpacking\n",
    "    image = inputs[0]\n",
    "    label = inputs[1]\n",
    "    # Process the image\n",
    "    processed_image = tf.cast(image, tf.float32) / 255.0  # Example processing\n",
    "    return processed_image, label\n",
    "\n",
    "# Apply the alternative function\n",
    "# train_ds = train_ds.map(process_image_alt)\n",
    "# test_ds = test_ds.map(process_image_alt)"
   ]
  },
  {
   "cell_type": "code",
   "execution_count": 34,
   "id": "065b0acf-3830-438d-ab94-7ac866995f64",
   "metadata": {},
   "outputs": [
    {
     "name": "stdout",
     "output_type": "stream",
     "text": [
      "**** tf.Tensor(\n",
      "[[[0.30604798]\n",
      "  [0.31769985]\n",
      "  [0.35574892]\n",
      "  ...\n",
      "  [0.2889025 ]\n",
      "  [0.30860883]\n",
      "  [0.31463277]]\n",
      "\n",
      " [[0.23722738]\n",
      "  [0.3338391 ]\n",
      "  [0.3036074 ]\n",
      "  ...\n",
      "  [0.29159176]\n",
      "  [0.28950626]\n",
      "  [0.22754432]]\n",
      "\n",
      " [[0.23839255]\n",
      "  [0.26669288]\n",
      "  [0.3327042 ]\n",
      "  ...\n",
      "  [0.32679084]\n",
      "  [0.3456324 ]\n",
      "  [0.26026097]]\n",
      "\n",
      " ...\n",
      "\n",
      " [[0.2302799 ]\n",
      "  [0.20771196]\n",
      "  [0.16489485]\n",
      "  ...\n",
      "  [0.382096  ]\n",
      "  [0.3736054 ]\n",
      "  [0.29027662]]\n",
      "\n",
      " [[0.20307893]\n",
      "  [0.17846178]\n",
      "  [0.20111276]\n",
      "  ...\n",
      "  [0.35730496]\n",
      "  [0.36976102]\n",
      "  [0.30711982]]\n",
      "\n",
      " [[0.19875069]\n",
      "  [0.1472138 ]\n",
      "  [0.20482837]\n",
      "  ...\n",
      "  [0.44777438]\n",
      "  [0.3454299 ]\n",
      "  [0.37299493]]], shape=(128, 128, 1), dtype=float32)\n",
      "**** tf.Tensor(b'jpeg', shape=(), dtype=string)\n"
     ]
    }
   ],
   "source": [
    "for image, label in train_ds.take(1):\n",
    "    print(\"****\",image)\n",
    "    print(\"****\",label)"
   ]
  },
  {
   "cell_type": "code",
   "execution_count": 35,
   "id": "1ea4ef9d-92b0-4ba5-b874-3b2b62deafee",
   "metadata": {},
   "outputs": [],
   "source": [
    "def scale(image, label):\n",
    "    return image/255, label"
   ]
  },
  {
   "cell_type": "code",
   "execution_count": 36,
   "id": "dc9519ee-5067-4751-aded-de2f776574d7",
   "metadata": {},
   "outputs": [],
   "source": [
    "train_ds = train_ds.map(scale)"
   ]
  },
  {
   "cell_type": "code",
   "execution_count": 37,
   "id": "8cddda58-044d-40bf-a65d-ceb1b3935100",
   "metadata": {},
   "outputs": [
    {
     "name": "stdout",
     "output_type": "stream",
     "text": [
      "****Image:  [0.00144896]\n",
      "****Label:  b'jpeg'\n",
      "****Image:  [0.0006153]\n",
      "****Label:  b'jpeg'\n",
      "****Image:  [0.00392157]\n",
      "****Label:  b'jpeg'\n",
      "****Image:  [0.]\n",
      "****Label:  b'jpeg'\n",
      "****Image:  [0.00392157]\n",
      "****Label:  b'jpeg'\n"
     ]
    }
   ],
   "source": [
    "for image, label in train_ds.take(5):\n",
    "    print(\"****Image: \",image.numpy()[0][0])\n",
    "    print(\"****Label: \",label.numpy())"
   ]
  },
  {
   "cell_type": "code",
   "execution_count": null,
   "id": "c6f16203-c239-4ccb-96f4-49afe7a7b9eb",
   "metadata": {},
   "outputs": [],
   "source": []
  }
 ],
 "metadata": {
  "kernelspec": {
   "display_name": "Python 3 (ipykernel)",
   "language": "python",
   "name": "python3"
  },
  "language_info": {
   "codemirror_mode": {
    "name": "ipython",
    "version": 3
   },
   "file_extension": ".py",
   "mimetype": "text/x-python",
   "name": "python",
   "nbconvert_exporter": "python",
   "pygments_lexer": "ipython3",
   "version": "3.12.7"
  }
 },
 "nbformat": 4,
 "nbformat_minor": 5
}
