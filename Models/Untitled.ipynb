{
 "cells": [
  {
   "cell_type": "code",
   "execution_count": 1,
   "id": "3ecffa04-4d7f-46e6-8113-f80e236f120a",
   "metadata": {},
   "outputs": [
    {
     "name": "stdout",
     "output_type": "stream",
     "text": [
      "Image resizing completed.\n"
     ]
    }
   ],
   "source": [
    "import os\n",
    "from PIL import Image\n",
    "\n",
    "# Define paths\n",
    "input_directory = r\"C:\\Users\\Timothy\\OneDrive\\Desktop\\archive\"\n",
    "output_directory = r\"C:\\Users\\Timothy\\OneDrive\\Desktop\\resized_images\"\n",
    "\n",
    "# Create output directory if it doesn't exist\n",
    "if not os.path.exists(output_directory):\n",
    "    os.makedirs(output_directory)\n",
    "\n",
    "# Loop through all files in the input directory\n",
    "for filename in os.listdir(input_directory):\n",
    "    if filename.endswith(('.png', '.jpg', '.jpeg', '.bmp', '.gif')):\n",
    "        try:\n",
    "            # Open an image file\n",
    "            img = Image.open(os.path.join(input_directory, filename))\n",
    "            \n",
    "            # Resize image\n",
    "            img = img.resize((256, 256), Image.ANTIALIAS)\n",
    "            \n",
    "            # Save the image to the output directory\n",
    "            img.save(os.path.join(output_directory, filename))\n",
    "            print(f\"Resized and saved: {filename}\")\n",
    "        except Exception as e:\n",
    "            print(f\"Error processing {filename}: {e}\")\n",
    "\n",
    "print(\"Image resizing completed.\")\n"
   ]
  },
  {
   "cell_type": "code",
   "execution_count": null,
   "id": "c81c759c-9bc7-4d02-8b27-94d1604c7f0e",
   "metadata": {},
   "outputs": [],
   "source": []
  }
 ],
 "metadata": {
  "kernelspec": {
   "display_name": "Python [conda env:base] *",
   "language": "python",
   "name": "conda-base-py"
  },
  "language_info": {
   "codemirror_mode": {
    "name": "ipython",
    "version": 3
   },
   "file_extension": ".py",
   "mimetype": "text/x-python",
   "name": "python",
   "nbconvert_exporter": "python",
   "pygments_lexer": "ipython3",
   "version": "3.12.7"
  }
 },
 "nbformat": 4,
 "nbformat_minor": 5
}
